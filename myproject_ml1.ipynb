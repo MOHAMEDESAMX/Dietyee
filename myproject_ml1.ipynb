{
 "cells": [
  {
   "cell_type": "code",
   "execution_count": 1,
   "id": "51a19709",
   "metadata": {},
   "outputs": [],
   "source": [
    "import pandas as pd\n",
    "from sklearn.model_selection import train_test_split\n",
    "from sklearn.tree import DecisionTreeClassifier\n",
    "from sklearn.preprocessing import LabelEncoder\n",
    "from sklearn.metrics import accuracy_score"
   ]
  },
  {
   "cell_type": "code",
   "execution_count": 2,
   "id": "cedcb802",
   "metadata": {},
   "outputs": [],
   "source": [
    "df = pd.read_csv(\"final_dataset_BFP .csv\")"
   ]
  },
  {
   "cell_type": "code",
   "execution_count": 3,
   "id": "2e1eb88d",
   "metadata": {},
   "outputs": [
    {
     "name": "stdout",
     "output_type": "stream",
     "text": [
      "Data types of each column:\n",
      "\n",
      "Weight                          float64\n",
      "Height                          float64\n",
      "BMI                             float64\n",
      "Body Fat Percentage             float64\n",
      "BFPcase                          object\n",
      "Gender                           object\n",
      "Age                               int64\n",
      "BMIcase                          object\n",
      "Exercise Recommendation Plan      int64\n",
      "dtype: object\n"
     ]
    }
   ],
   "source": [
    "data_types = df.dtypes\n",
    "print(\"Data types of each column:\\n\")\n",
    "print(data_types)"
   ]
  },
  {
   "cell_type": "code",
   "execution_count": 4,
   "id": "8959dc1d",
   "metadata": {},
   "outputs": [
    {
     "data": {
      "text/html": [
       "<div>\n",
       "<style scoped>\n",
       "    .dataframe tbody tr th:only-of-type {\n",
       "        vertical-align: middle;\n",
       "    }\n",
       "\n",
       "    .dataframe tbody tr th {\n",
       "        vertical-align: top;\n",
       "    }\n",
       "\n",
       "    .dataframe thead th {\n",
       "        text-align: right;\n",
       "    }\n",
       "</style>\n",
       "<table border=\"1\" class=\"dataframe\">\n",
       "  <thead>\n",
       "    <tr style=\"text-align: right;\">\n",
       "      <th></th>\n",
       "      <th>Weight</th>\n",
       "      <th>Height</th>\n",
       "      <th>BMI</th>\n",
       "      <th>Body Fat Percentage</th>\n",
       "      <th>BFPcase</th>\n",
       "      <th>Gender</th>\n",
       "      <th>Age</th>\n",
       "      <th>BMIcase</th>\n",
       "      <th>Exercise Recommendation Plan</th>\n",
       "    </tr>\n",
       "  </thead>\n",
       "  <tbody>\n",
       "    <tr>\n",
       "      <th>0</th>\n",
       "      <td>76.811975</td>\n",
       "      <td>1.820521</td>\n",
       "      <td>23.175956</td>\n",
       "      <td>18.281148</td>\n",
       "      <td>Acceptable</td>\n",
       "      <td>Male</td>\n",
       "      <td>29</td>\n",
       "      <td>normal</td>\n",
       "      <td>4</td>\n",
       "    </tr>\n",
       "    <tr>\n",
       "      <th>1</th>\n",
       "      <td>77.721154</td>\n",
       "      <td>1.945498</td>\n",
       "      <td>20.534184</td>\n",
       "      <td>13.731021</td>\n",
       "      <td>Fitness</td>\n",
       "      <td>Male</td>\n",
       "      <td>23</td>\n",
       "      <td>normal</td>\n",
       "      <td>4</td>\n",
       "    </tr>\n",
       "    <tr>\n",
       "      <th>2</th>\n",
       "      <td>87.558726</td>\n",
       "      <td>1.742754</td>\n",
       "      <td>28.828859</td>\n",
       "      <td>42.304631</td>\n",
       "      <td>Obese</td>\n",
       "      <td>Female</td>\n",
       "      <td>57</td>\n",
       "      <td>over weight</td>\n",
       "      <td>5</td>\n",
       "    </tr>\n",
       "    <tr>\n",
       "      <th>3</th>\n",
       "      <td>89.473356</td>\n",
       "      <td>1.758318</td>\n",
       "      <td>28.940017</td>\n",
       "      <td>27.958021</td>\n",
       "      <td>Obese</td>\n",
       "      <td>Male</td>\n",
       "      <td>41</td>\n",
       "      <td>over weight</td>\n",
       "      <td>5</td>\n",
       "    </tr>\n",
       "    <tr>\n",
       "      <th>4</th>\n",
       "      <td>69.963943</td>\n",
       "      <td>1.722570</td>\n",
       "      <td>23.578732</td>\n",
       "      <td>16.464478</td>\n",
       "      <td>Fitness</td>\n",
       "      <td>Male</td>\n",
       "      <td>19</td>\n",
       "      <td>normal</td>\n",
       "      <td>4</td>\n",
       "    </tr>\n",
       "    <tr>\n",
       "      <th>5</th>\n",
       "      <td>62.913627</td>\n",
       "      <td>1.498504</td>\n",
       "      <td>28.017479</td>\n",
       "      <td>34.200974</td>\n",
       "      <td>Obese</td>\n",
       "      <td>Female</td>\n",
       "      <td>26</td>\n",
       "      <td>over weight</td>\n",
       "      <td>5</td>\n",
       "    </tr>\n",
       "    <tr>\n",
       "      <th>6</th>\n",
       "      <td>53.598341</td>\n",
       "      <td>1.864738</td>\n",
       "      <td>15.414007</td>\n",
       "      <td>9.886809</td>\n",
       "      <td>Athletes</td>\n",
       "      <td>Male</td>\n",
       "      <td>33</td>\n",
       "      <td>sever thinness</td>\n",
       "      <td>1</td>\n",
       "    </tr>\n",
       "    <tr>\n",
       "      <th>7</th>\n",
       "      <td>105.078061</td>\n",
       "      <td>1.743099</td>\n",
       "      <td>34.583405</td>\n",
       "      <td>50.590086</td>\n",
       "      <td>Obese</td>\n",
       "      <td>Female</td>\n",
       "      <td>63</td>\n",
       "      <td>severe obese</td>\n",
       "      <td>7</td>\n",
       "    </tr>\n",
       "    <tr>\n",
       "      <th>8</th>\n",
       "      <td>87.698358</td>\n",
       "      <td>1.818983</td>\n",
       "      <td>26.505403</td>\n",
       "      <td>39.976483</td>\n",
       "      <td>Obese</td>\n",
       "      <td>Female</td>\n",
       "      <td>59</td>\n",
       "      <td>severe obese</td>\n",
       "      <td>7</td>\n",
       "    </tr>\n",
       "    <tr>\n",
       "      <th>9</th>\n",
       "      <td>74.798901</td>\n",
       "      <td>1.710349</td>\n",
       "      <td>25.569717</td>\n",
       "      <td>29.433660</td>\n",
       "      <td>Obese</td>\n",
       "      <td>Male</td>\n",
       "      <td>65</td>\n",
       "      <td>over weight</td>\n",
       "      <td>5</td>\n",
       "    </tr>\n",
       "  </tbody>\n",
       "</table>\n",
       "</div>"
      ],
      "text/plain": [
       "       Weight    Height        BMI  Body Fat Percentage     BFPcase  Gender  \\\n",
       "0   76.811975  1.820521  23.175956            18.281148  Acceptable    Male   \n",
       "1   77.721154  1.945498  20.534184            13.731021     Fitness    Male   \n",
       "2   87.558726  1.742754  28.828859            42.304631       Obese  Female   \n",
       "3   89.473356  1.758318  28.940017            27.958021       Obese    Male   \n",
       "4   69.963943  1.722570  23.578732            16.464478     Fitness    Male   \n",
       "5   62.913627  1.498504  28.017479            34.200974       Obese  Female   \n",
       "6   53.598341  1.864738  15.414007             9.886809    Athletes    Male   \n",
       "7  105.078061  1.743099  34.583405            50.590086       Obese  Female   \n",
       "8   87.698358  1.818983  26.505403            39.976483       Obese  Female   \n",
       "9   74.798901  1.710349  25.569717            29.433660       Obese    Male   \n",
       "\n",
       "   Age         BMIcase  Exercise Recommendation Plan  \n",
       "0   29          normal                             4  \n",
       "1   23          normal                             4  \n",
       "2   57     over weight                             5  \n",
       "3   41     over weight                             5  \n",
       "4   19          normal                             4  \n",
       "5   26     over weight                             5  \n",
       "6   33  sever thinness                             1  \n",
       "7   63    severe obese                             7  \n",
       "8   59    severe obese                             7  \n",
       "9   65     over weight                             5  "
      ]
     },
     "execution_count": 4,
     "metadata": {},
     "output_type": "execute_result"
    }
   ],
   "source": [
    "df.head(10)"
   ]
  },
  {
   "cell_type": "code",
   "execution_count": 5,
   "id": "6345dbe8",
   "metadata": {},
   "outputs": [],
   "source": [
    "# Select the input features and target variable\n",
    "data_input = df[['Weight', 'Height', 'Gender', 'Age']]\n",
    "data_output = df['Exercise Recommendation Plan']"
   ]
  },
  {
   "cell_type": "code",
   "execution_count": 6,
   "id": "a95e29c7",
   "metadata": {},
   "outputs": [],
   "source": [
    "# Convert categorical variables to numerical using label encoding\n",
    "le = LabelEncoder()\n",
    "data_input = data_input.copy()\n",
    "data_input.loc[:, 'Gender'] = le.fit_transform(data_input['Gender'])"
   ]
  },
  {
   "cell_type": "code",
   "execution_count": 7,
   "id": "86efa90f",
   "metadata": {},
   "outputs": [],
   "source": [
    "# Split the data into training and testing sets\n",
    "X, X_test, y, y_test = train_test_split(data_input, data_output, test_size=0.25, random_state=3)\n",
    "\n",
    "X_train, X_val, y_train, y_val = train_test_split(X, y, test_size=0.25, random_state=2)\n",
    "\n",
    "# Create the decision tree classifier\n",
    "model = DecisionTreeClassifier(max_depth=8,random_state=3)"
   ]
  },
  {
   "cell_type": "code",
   "execution_count": 8,
   "id": "6a137fae",
   "metadata": {},
   "outputs": [
    {
     "name": "stdout",
     "output_type": "stream",
     "text": [
      "X_train: (2812, 4)\n",
      "y_train: (2812,)\n",
      "------------\n",
      "X_val: (938, 4)\n",
      "y_val: (938,)\n",
      "------------\n",
      "X_test: (1250, 4)\n",
      "y_test: (1250,)\n"
     ]
    }
   ],
   "source": [
    "print('X_train:', X_train.shape)\n",
    "print('y_train:', y_train.shape)\n",
    "print('------------')\n",
    "print('X_val:', X_val.shape)\n",
    "print('y_val:', y_val.shape)\n",
    "print('------------')\n",
    "print('X_test:', X_test.shape)\n",
    "print('y_test:', y_test.shape)"
   ]
  },
  {
   "cell_type": "code",
   "execution_count": 9,
   "id": "b27b23e5",
   "metadata": {},
   "outputs": [
    {
     "name": "stdout",
     "output_type": "stream",
     "text": [
      "Accuracy: 0.903271692745377\n",
      "Accuracy: 0.8294243070362474\n"
     ]
    }
   ],
   "source": [
    "# Train the classifier\n",
    "model.fit(X_train, y_train)\n",
    "\n",
    "\n",
    "y_pred_train = model.predict(X_train)\n",
    "\n",
    "y_pred_val = model.predict(X_val)\n",
    "\n",
    "# Make predictions on the testing set\n",
    "# y_pred = clf.predict(X_test)\n",
    "\n",
    "# Calculate the accuracy of the model\n",
    "print(\"Accuracy:\", accuracy_score(y_train, y_pred_train))\n",
    "print(\"Accuracy:\", accuracy_score(y_val, y_pred_val))"
   ]
  },
  {
   "cell_type": "code",
   "execution_count": 10,
   "id": "b4672c23",
   "metadata": {},
   "outputs": [],
   "source": [
    "# we are going to try these values\n",
    "max_depth_values = [1, 2, 3, 4, 5, 6, 7, 8, 9, 10, 11, 12, 13, 14, 15]\n",
    "\n",
    "# we store the accuracy values of our experiments in two lists \n",
    "# (for training and validation)\n",
    "training_accuracy_values = []\n",
    "validation_accuracy_values = []\n",
    "\n",
    "# we loop over the max_depth_values\n",
    "for max_depth_val in max_depth_values:\n",
    "    \n",
    "    # create the model\n",
    "    model = DecisionTreeClassifier(max_depth=max_depth_val, \n",
    "                                   random_state=2)\n",
    "    \n",
    "    # train the model\n",
    "    model.fit(X_train, y_train)\n",
    "    \n",
    "    # calculate the training and validation accuracy\n",
    "    y_pred_train = model.predict(X_train)\n",
    "    y_pred_val = model.predict(X_val)\n",
    "    acc_train = accuracy_score(y_train, y_pred_train)\n",
    "    acc_val = accuracy_score(y_val, y_pred_val)\n",
    "    \n",
    "    # add these results to the lists\n",
    "    training_accuracy_values.append(acc_train)\n",
    "    validation_accuracy_values.append(acc_val)"
   ]
  },
  {
   "cell_type": "code",
   "execution_count": 11,
   "id": "a68ad4af",
   "metadata": {},
   "outputs": [],
   "source": [
    "import matplotlib.pyplot as plt\n",
    "%matplotlib inline"
   ]
  },
  {
   "cell_type": "code",
   "execution_count": 12,
   "id": "3974a442",
   "metadata": {},
   "outputs": [
    {
     "data": {
      "image/png": "[encoded data removed]",
      "text/plain": [
       "<Figure size 640x480 with 1 Axes>"
      ]
     },
     "metadata": {},
     "output_type": "display_data"
    }
   ],
   "source": [
    "plt.plot(max_depth_values, training_accuracy_values, label=\"train acc\")\n",
    "plt.plot(max_depth_values, validation_accuracy_values, label=\"val acc\")\n",
    "plt.xlabel('max_depth')\n",
    "plt.ylabel('accuracy')\n",
    "plt.title('Relationship between max_depth and accuracy')\n",
    "plt.legend()\n",
    "plt.grid(axis='both')\n",
    "plt.show()"
   ]
  },
  {
   "cell_type": "code",
   "execution_count": 13,
   "id": "1ea8c0f9",
   "metadata": {},
   "outputs": [
    {
     "data": {
      "text/plain": [
       "DecisionTreeClassifier(max_depth=8, random_state=2)"
      ]
     },
     "execution_count": 13,
     "metadata": {},
     "output_type": "execute_result"
    }
   ],
   "source": [
    "model_best = DecisionTreeClassifier(max_depth=8, random_state=2)\n",
    "model_best.fit(X_train, y_train)"
   ]
  },
  {
   "cell_type": "code",
   "execution_count": 14,
   "id": "a47f53e4",
   "metadata": {},
   "outputs": [],
   "source": [
    "y_pred_test = model_best.predict(X_test)"
   ]
  },
  {
   "cell_type": "code",
   "execution_count": 15,
   "id": "a2b44c59",
   "metadata": {},
   "outputs": [
    {
     "name": "stdout",
     "output_type": "stream",
     "text": [
      "Test accuracy: 0.8016\n"
     ]
    }
   ],
   "source": [
    "print('Test accuracy:', accuracy_score(y_test, y_pred_test))"
   ]
  },
  {
   "cell_type": "code",
   "execution_count": 16,
   "id": "ef4da3c1",
   "metadata": {},
   "outputs": [],
   "source": [
    "import pickle"
   ]
  },
  {
   "cell_type": "code",
   "execution_count": 17,
   "id": "fb2beb64",
   "metadata": {},
   "outputs": [],
   "source": [
    "pickle.dump(model_best, open('decision_tree_model.pkl)','wb'))"
   ]
  },
  {
   "cell_type": "code",
   "execution_count": 19,
   "id": "79bdaba1",
   "metadata": {},
   "outputs": [],
   "source": [
    "with open('decision_tree_model.pkl', 'wb') as f:\n",
    "    pickle.dump(model_best, f)"
   ]
  },
  {
   "cell_type": "code",
   "execution_count": 20,
   "id": "fb878268",
   "metadata": {},
   "outputs": [],
   "source": [
    "# Load the saved model\n",
    "with open('decision_tree_model.pkl', 'rb') as f:\n",
    "    loaded_model = pickle.load(f)"
   ]
  },
  {
   "cell_type": "code",
   "execution_count": 26,
   "id": "11898824",
   "metadata": {},
   "outputs": [
    {
     "name": "stdout",
     "output_type": "stream",
     "text": [
      "Predicted Exercise Recommendation Plan: 4\n"
     ]
    }
   ],
   "source": [
    "# New input data (example)\n",
    "new_input_data = pd.DataFrame({'Weight': [90], 'Height': [170], 'Gender': ['Male'], 'Age': [25]})\n",
    "\n",
    "# Convert categorical variables to numerical using label encoding\n",
    "new_input_data_encoded = new_input_data.copy()\n",
    "new_input_data_encoded['Gender'] = le.transform(new_input_data['Gender'])\n",
    "\n",
    "# Make predictions using the loaded model\n",
    "predictions = loaded_model.predict(new_input_data_encoded)\n",
    "\n",
    "# Print the predictions\n",
    "print(\"Predicted Exercise Recommendation Plan:\", predictions[0])"
   ]
  },
  {
   "cell_type": "code",
   "execution_count": null,
   "id": "4e1a4d60",
   "metadata": {},
   "outputs": [],
   "source": []
  },
  {
   "cell_type": "code",
   "execution_count": null,
   "id": "4cab69d4",
   "metadata": {},
   "outputs": [],
   "source": []
  }
 ],
 "metadata": {
  "kernelspec": {
   "display_name": "Python 3 (ipykernel)",
   "language": "python",
   "name": "python3"
  },
  "language_info": {
   "codemirror_mode": {
    "name": "ipython",
    "version": 3
   },
   "file_extension": ".py",
   "mimetype": "text/x-python",
   "name": "python",
   "nbconvert_exporter": "python",
   "pygments_lexer": "ipython3",
   "version": "3.9.13"
  }
 },
 "nbformat": 4,
 "nbformat_minor": 5
}
